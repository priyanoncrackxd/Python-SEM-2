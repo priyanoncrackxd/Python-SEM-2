{
 "cells": [
  {
   "cell_type": "markdown",
   "id": "e8f30b4e-21b6-47c7-8994-0b777c5ec92d",
   "metadata": {},
   "source": [
    "1.Write a program to read a file “students.csv” and print it’s value. The fields to read are name, id,\n",
    "course, level and section."
   ]
  },
  {
   "cell_type": "code",
   "execution_count": 1,
   "id": "35e69afb-0f82-41f8-9708-eb6e2bcc2206",
   "metadata": {},
   "outputs": [
    {
     "name": "stdin",
     "output_type": "stream",
     "text": [
      "Enter your name:  priyanshu\n",
      "Enter your id:  100\n",
      "Enter your course:  computing\n",
      "Enter your level:  3\n",
      "Enter your section f\n"
     ]
    },
    {
     "data": {
      "text/plain": [
       "28"
      ]
     },
     "execution_count": 1,
     "metadata": {},
     "output_type": "execute_result"
    }
   ],
   "source": [
    "file = open(\"students.csv\", \"a\")\n",
    "name = input(\"Enter your name: \")\n",
    "sid = input(\"Enter your id: \")\n",
    "course = input(\"Enter your course: \")\n",
    "level = input(\"Enter your level: \")\n",
    "section = input(\"Enter your section\")\n",
    "\n",
    "file.write(f\"{name} {sid} {course} {level} {section}\\n\")"
   ]
  },
  {
   "cell_type": "markdown",
   "id": "469b1841-79eb-40b7-8261-0952c4435543",
   "metadata": {},
   "source": [
    "2. Write a program to take the user details as the input from the user and write it to the existing file\n",
    "“students.csv”. The new record should be added to the end of the file. The fields to take input are\n",
    "name, id, course, level and section."
   ]
  },
  {
   "cell_type": "code",
   "execution_count": 2,
   "id": "4e23f45e-3098-4fe9-982a-f5e311af603a",
   "metadata": {},
   "outputs": [
    {
     "name": "stdin",
     "output_type": "stream",
     "text": [
      "Enter the student name:  priyanshu\n",
      "Enter the student ID:  100\n",
      "Enter the student course:  computing\n",
      "Enter the student level:  3\n",
      "Enter the student section:  f\n"
     ]
    },
    {
     "name": "stdout",
     "output_type": "stream",
     "text": [
      "Record added successfully to students.csv.\n"
     ]
    }
   ],
   "source": [
    "import csv\n",
    "\n",
    "def add_student_record():\n",
    "    name = input(\"Enter the student name: \")\n",
    "    student_id = input(\"Enter the student ID: \")\n",
    "    course = input(\"Enter the student course: \")\n",
    "    level = input(\"Enter the student level: \")\n",
    "    section = input(\"Enter the student section: \")\n",
    "\n",
    "    with open('students.csv', 'a', newline='') as file:\n",
    "        writer = csv.writer(file)\n",
    "        writer.writerow([name, student_id, course, level, section])\n",
    "\n",
    "    print(\"Record added successfully to students.csv.\")\n",
    "\n",
    "add_student_record()\n"
   ]
  },
  {
   "cell_type": "markdown",
   "id": "9cb0f52b-6897-415f-82d3-ff2e2f6995a9",
   "metadata": {},
   "source": [
    "3.Write a program input any list of numbers from the user, calculate the addition, subtraction,\n",
    "multiplication and division values and write into a file with the current date and time. The program\n",
    "should allow the user to repeat the operation until they want. When the user choose the option to\n",
    "exit the program, the user should be displayed with the details in the current file in a proper format."
   ]
  },
  {
   "cell_type": "code",
   "execution_count": 5,
   "id": "1f6da757-aa1e-4605-b4a5-3b26b0f8b8b9",
   "metadata": {},
   "outputs": [
    {
     "name": "stdin",
     "output_type": "stream",
     "text": [
      "Enter list elements separated by space: 1\n",
      "Enter a scalar number: 12\n",
      "Add another list? [y/n]: n\n"
     ]
    },
    {
     "name": "stdout",
     "output_type": "stream",
     "text": [
      "\n",
      "Operations history:\n",
      "\n",
      "Date and Time: 2024-07-01 00:10:08.962764\n",
      "User Input Numbers: [1]\n",
      "User input scalar: 2.0\n",
      "Addition: [3.0]\n",
      "Subtraction: [-1.0]\n",
      "Multiplication: [2.0]\n",
      "Division: [0.5]\n",
      "---------------------------------------------------------\n",
      "Date and Time: 2024-07-01 00:10:24.386781\n",
      "User Input Numbers: [33]\n",
      "User input scalar: 65.0\n",
      "Addition: [98.0]\n",
      "Subtraction: [-32.0]\n",
      "Multiplication: [2145.0]\n",
      "Division: [0.5076923076923077]\n",
      "---------------------------------------------------------\n",
      "Date and Time: 2024-07-01 00:20:39.395601\n",
      "User Input Numbers: [1]\n",
      "User input scalar: 12.0\n",
      "Addition: [13.0]\n",
      "Subtraction: [-11.0]\n",
      "Multiplication: [12.0]\n",
      "Division: [0.08333333333333333]\n",
      "---------------------------------------------------------\n"
     ]
    }
   ],
   "source": [
    "import datetime\n",
    "\n",
    "def operations(num_list, scalar):\n",
    "    # function to perform arithmetic operation in the list of numbers\n",
    "    add_list = []\n",
    "    sub_list = []\n",
    "    mul_list = []\n",
    "    div_list = []\n",
    "    for n in num_list:\n",
    "        add_list.append(n + scalar)\n",
    "        sub_list.append(n - scalar)\n",
    "        mul_list.append(n * scalar)\n",
    "        div_list.append(n / scalar)\n",
    "    return add_list, sub_list, mul_list, div_list\n",
    "\n",
    "def file_write(num_list, s, result):\n",
    "    # function to store each operation in a file along with the current date and time\n",
    "    file = open('operations.txt','a')\n",
    "    file.write(f\"\\nDate and Time: {datetime.datetime.now()}\\n\") # extracts and stores current date and time\n",
    "    file.write(f\"User Input Numbers: {num_list}\\n\")\n",
    "    file.write(f\"User input scalar: {s}\\n\")\n",
    "    file.write(f\"Addition: {result[0]}\\n\")\n",
    "    file.write(f\"Subtraction: {result[1]}\\n\")\n",
    "    file.write(f\"Multiplication: {result[2]}\\n\")\n",
    "    file.write(f\"Division: {result[3]}\\n\")\n",
    "    file.write(f\"---------------------------------------------------------\")\n",
    "    file.close()\n",
    "\n",
    "def file_read():\n",
    "    # function to read the data of the file\n",
    "    f = open('operations.txt','r')\n",
    "    print(f.read())\n",
    "    f.close()\n",
    "             \n",
    "choice = 'y'\n",
    "while (choice == 'y'):\n",
    "    num_input = input(\"Enter list elements separated by space:\")\n",
    "    n_list = num_input.split()\n",
    "    num_list = [int(n) for n in n_list] # creates a list of integer with the user input data\n",
    "    scalar = float(input(\"Enter a scalar number:\"))\n",
    "    result = operations(num_list, scalar) # function call to perform operations\n",
    "    file_write(num_list, scalar, result) # function call to write the results in a file\n",
    "    choice = input(\"Add another list? [y/n]:\")\n",
    "    \n",
    "print(\"\\nOperations history:\")\n",
    "file_read() # function call to read all the results from the file \n",
    "\n",
    "    "
   ]
  },
  {
   "cell_type": "markdown",
   "id": "513f9405-d679-4d64-bf68-2c67e09cf626",
   "metadata": {},
   "source": [
    "4. Write a program to take read a file and write it into another file. The input and output file names\n",
    "should be taken input from the user. Use the concept of try/except to handle the exception. Provide\n",
    "the proper error if the file does not exist while reading and also if the file for output exists."
   ]
  },
  {
   "cell_type": "code",
   "execution_count": 6,
   "id": "75f4fd3d-bf4f-46e5-be8c-d4f4276c5338",
   "metadata": {},
   "outputs": [
    {
     "name": "stdin",
     "output_type": "stream",
     "text": [
      "Enter file name for input: student.csv\n",
      "Enter file name for output: new.csv\n"
     ]
    },
    {
     "name": "stdout",
     "output_type": "stream",
     "text": [
      "Error: Input file 'student.csv' not found\n"
     ]
    },
    {
     "ename": "AttributeError",
     "evalue": "'str' object has no attribute 'close'",
     "output_type": "error",
     "traceback": [
      "\u001b[1;31m---------------------------------------------------------------------------\u001b[0m",
      "\u001b[1;31mAttributeError\u001b[0m                            Traceback (most recent call last)",
      "Cell \u001b[1;32mIn[6], line 19\u001b[0m\n\u001b[0;32m     16\u001b[0m \u001b[38;5;28;01mexcept\u001b[39;00m \u001b[38;5;167;01mFileNotFoundError\u001b[39;00m: \u001b[38;5;66;03m# shows error message if input file doesn't exist\u001b[39;00m\n\u001b[0;32m     17\u001b[0m     \u001b[38;5;28mprint\u001b[39m(\u001b[38;5;124mf\u001b[39m\u001b[38;5;124m\"\u001b[39m\u001b[38;5;124mError: Input file \u001b[39m\u001b[38;5;124m'\u001b[39m\u001b[38;5;132;01m{\u001b[39;00minput_name\u001b[38;5;132;01m}\u001b[39;00m\u001b[38;5;124m'\u001b[39m\u001b[38;5;124m not found\u001b[39m\u001b[38;5;124m\"\u001b[39m)\n\u001b[1;32m---> 19\u001b[0m \u001b[43minput_file\u001b[49m\u001b[38;5;241;43m.\u001b[39;49m\u001b[43mclose\u001b[49m()\n\u001b[0;32m     20\u001b[0m output_file\u001b[38;5;241m.\u001b[39mclose()\n",
      "\u001b[1;31mAttributeError\u001b[0m: 'str' object has no attribute 'close'"
     ]
    }
   ],
   "source": [
    "# asks user for input and output file name\n",
    "input_name = input(\"Enter file name for input:\")\n",
    "output_name = input(\"Enter file name for output:\")\n",
    "\n",
    "try: # tries to open input file\n",
    "    input_file = open(input_name, 'r')\n",
    "    contents = input_file.read() \n",
    "    \n",
    "    try: # tries to create output file \n",
    "        output_file = open(output_name, 'x')\n",
    "        output_file.write(contents)\n",
    "        print(\"Successfully copied\")\n",
    "    except FileExistsError: # shows error message if output file already exists\n",
    "        print(f\"Error: Output file '{output_name}' already exists\")\n",
    "        \n",
    "except FileNotFoundError: # shows error message if input file doesn't exist\n",
    "    print(f\"Error: Input file '{input_name}' not found\")\n",
    "    \n",
    "input_file.close()\n",
    "output_file.close()"
   ]
  },
  {
   "cell_type": "markdown",
   "id": "a1a73352-77b2-43e0-ae73-4252782127d1",
   "metadata": {},
   "source": [
    "5. Create a class Student with the attributes such as id, name, address, admission year, level, section.\n",
    "Instantiate the object of class to take input for all the attributes and display the output."
   ]
  },
  {
   "cell_type": "code",
   "execution_count": 9,
   "id": "71a88143-b7f3-47f9-93ca-0f8aabbd6d38",
   "metadata": {},
   "outputs": [
    {
     "name": "stdin",
     "output_type": "stream",
     "text": [
      "Enter student id: 100\n",
      "Enter student name: priyanshu\n",
      "Enter address: tinkune\n",
      "Enter admission year: 2024\n",
      "Enter level: 3\n",
      "Enter section: f\n"
     ]
    },
    {
     "name": "stdout",
     "output_type": "stream",
     "text": [
      "\n",
      "Student Details:\n",
      "Student ID: 100\n",
      "Student Name: priyanshu\n",
      "Address: tinkune\n",
      "Admission Year: 2024\n",
      "Level: 3\n",
      "Section: f\n"
     ]
    }
   ],
   "source": [
    "class Student():\n",
    "    \n",
    "    def __init__(self, i_d, name, address, admission_year, level, section):\n",
    "        self.i_d = i_d\n",
    "        self.name = name\n",
    "        self.address = address\n",
    "        self.ad_year = admission_year\n",
    "        self.level = level \n",
    "        self.section = section\n",
    "\n",
    "    #display method for printing student details\n",
    "    def display(self):\n",
    "        print(\"\\nStudent Details:\")\n",
    "        print(\"Student ID:\", self.i_d)\n",
    "        print(\"Student Name:\", self.name)\n",
    "        print(\"Address:\", self.address)\n",
    "        print(\"Admission Year:\", self.ad_year)\n",
    "        print(\"Level:\", self.level)\n",
    "        print(\"Section:\", self.section)\n",
    "\n",
    "# prompting user to input student details\n",
    "ID = int(input(\"Enter student id:\"))\n",
    "name = input(\"Enter student name:\")\n",
    "adrs = input(\"Enter address:\")\n",
    "year = int(input(\"Enter admission year:\"))\n",
    "lvl = input(\"Enter level:\")\n",
    "sec = input(\"Enter section:\")\n",
    "\n",
    "student = Student(ID, name, adrs, year, lvl, sec) # creating instance of class Student\n",
    "student.display() # displaying student's details"
   ]
  },
  {
   "cell_type": "markdown",
   "id": "ed1b1b5f-a08b-4244-804a-ac48142ecd19",
   "metadata": {},
   "source": [
    "6. Write a program to create a class called recipe with the attributes such as id, name, ingredients,\n",
    "descriptions. Create another class called recipe book to manage the collection of recipes."
   ]
  },
  {
   "cell_type": "code",
   "execution_count": 10,
   "id": "23e5a4e7-aa4f-4b18-8812-9c78f2f83608",
   "metadata": {},
   "outputs": [
    {
     "name": "stdout",
     "output_type": "stream",
     "text": [
      "Book id:  123\n",
      "Book name:  oops\n",
      "The ingredients are: \n",
      "lemon\n",
      "tomato\n",
      "banana\n",
      "The descriptions are: \n",
      "Be careful\n",
      "in process\n"
     ]
    }
   ],
   "source": [
    "class Recipe:\n",
    "    def __init__(self, rid, name, ingredients, descriptions):\n",
    "        self.rid = rid\n",
    "        self.name = name\n",
    "        self.ingredients = ingredients \n",
    "        self.descriptions = descriptions\n",
    "    \n",
    "class RecipeBook(Recipe):\n",
    "    def __init__(self, bid):\n",
    "        self.bid = bid\n",
    "        super().__init__(123, \"oops\", ['lemon', 'tomato', 'banana'], ['Be careful', 'in process'])\n",
    "\n",
    "    def display(self):\n",
    "        print(\"Book id: \", self.rid)\n",
    "        print(\"Book name: \", self.name)\n",
    "        print(\"The ingredients are: \")\n",
    "        for i in self.ingredients:\n",
    "            print(i)\n",
    "        print(\"The descriptions are: \")\n",
    "        for j in self.descriptions:\n",
    "            print(j)\n",
    "\n",
    "rb = RecipeBook(45)\n",
    "rb.display()"
   ]
  },
  {
   "cell_type": "markdown",
   "id": "169cf629-82dd-414f-8229-2318abfe7752",
   "metadata": {},
   "source": [
    "7. Write a program to implement a class called employee with attributes such as empid, name,\n",
    "address, contact_number, spouse_name, number_of_child, salary. Instantiate this class to input the\n",
    "values for multiple employees and write it in a file “employees.csv”. Allow the user of your program\n",
    "to see the list of employees and their details as well. Try to use the concept of try/except too in the\n",
    "program."
   ]
  },
  {
   "cell_type": "code",
   "execution_count": 5,
   "id": "ff992852-f61f-4e25-95fd-b3bfa6026387",
   "metadata": {},
   "outputs": [
    {
     "name": "stdout",
     "output_type": "stream",
     "text": [
      "1  Vinsmoke Sanji North Blue 1032000  Nami 2  1200000\n",
      " \n",
      "2  Eren Jaeger Shiganshina 984900  Mikasa 0  1000000\n",
      " \n",
      "3  Roronoa Zoro Japan 2860284  Robin 2  110000\n",
      " \n",
      "1  Vinsmoke Sanji: North Blue, 1032000  Nami 2  1200000\n",
      " \n",
      "2  Eren Jaeger Shiganshina 984900  Mikasa 0  1000000\n",
      " \n",
      "3  Roronoa Zoro Japan 2860284  Robin 2  110000\n",
      " \n",
      "1  Vinsmoke Sanji: North Blue, 1032000  Nami 2  1200000\n",
      " \n",
      "2  Eren Jaeger Shiganshina 984900  Mikasa 0  1000000\n",
      " \n",
      "3  Roronoa Zoro Japan 2860284  Robin 2  110000\n",
      " \n"
     ]
    }
   ],
   "source": [
    "class Employee:\n",
    "    def __init__(self, empid, name, address, contact_number, spouse_name, number_of_child, salary):\n",
    "        self.empid = empid\n",
    "        self.name = name\n",
    "        self.address = address\n",
    "        self.contact_number = contact_number \n",
    "        self.spouse_name = spouse_name\n",
    "        self.children = number_of_child\n",
    "        self.salary = salary\n",
    "    def add_to_file(self):\n",
    "        f = open(\"employees.csv\", \"a\")\n",
    "        f.write(f\"{self.empid}  {self.name} {self.address} {self.contact_number}  {self.spouse_name} {self.children}  {self.salary}\\n\")\n",
    "        \n",
    "\n",
    "e1 = Employee(1, \"Vinsmoke Sanji:\", \"North Blue,\", 1032000, \"Nami\", 2, 1200000)\n",
    "e1.add_to_file()\n",
    "e2 = Employee(2, \"Eren Jaeger\", \"Shiganshina\", 984900, \"Mikasa\", 0, 1000000)\n",
    "e2.add_to_file()\n",
    "e3 = Employee(3, \"Roronoa Zoro\", \"Japan\", 2860284, \"Robin\", 2, 110000)\n",
    "e3.add_to_file()\n",
    "\n",
    "f = open(\"employees.csv\", \"r\")\n",
    "file_contents = f.readlines()\n",
    "for content in file_contents:\n",
    "    print(content + \" \")"
   ]
  },
  {
   "cell_type": "markdown",
   "id": "0b74984f-7070-4e17-9846-49f785901912",
   "metadata": {},
   "source": [
    "8. Write a program to implement a basic library book management with the functionalities such as\n",
    "issue the book, return the book and search the book. Use the concept of OOP to create the necessary\n",
    "classes on your own and implement the concept of other OOP features. For the storage of book\n",
    "details, use the file handling along with the exception handling."
   ]
  },
  {
   "cell_type": "code",
   "execution_count": 12,
   "id": "a3979bda-33a1-4908-b6e7-caadb7af07aa",
   "metadata": {},
   "outputs": [
    {
     "ename": "FileNotFoundError",
     "evalue": "[Errno 2] No such file or directory: 'library_books.txt'",
     "output_type": "error",
     "traceback": [
      "\u001b[1;31m---------------------------------------------------------------------------\u001b[0m",
      "\u001b[1;31mFileNotFoundError\u001b[0m                         Traceback (most recent call last)",
      "Cell \u001b[1;32mIn[12], line 85\u001b[0m\n\u001b[0;32m     81\u001b[0m         \u001b[38;5;28;01melse\u001b[39;00m:\n\u001b[0;32m     82\u001b[0m             \u001b[38;5;28;01mreturn\u001b[39;00m (\u001b[38;5;124mf\u001b[39m\u001b[38;5;124m\"\u001b[39m\u001b[38;5;124mBook \u001b[39m\u001b[38;5;124m'\u001b[39m\u001b[38;5;132;01m{\u001b[39;00mname\u001b[38;5;132;01m}\u001b[39;00m\u001b[38;5;124m'\u001b[39m\u001b[38;5;124m not found in the library\u001b[39m\u001b[38;5;124m\"\u001b[39m)\n\u001b[1;32m---> 85\u001b[0m library \u001b[38;5;241m=\u001b[39m \u001b[43mLibrary\u001b[49m\u001b[43m(\u001b[49m\u001b[43m)\u001b[49m \u001b[38;5;66;03m# creates an instance of Library class object\u001b[39;00m\n\u001b[0;32m     86\u001b[0m \u001b[38;5;28;01mwhile\u001b[39;00m \u001b[38;5;28;01mTrue\u001b[39;00m:\n\u001b[0;32m     87\u001b[0m     \u001b[38;5;66;03m# displays a menu and performs function call based on the user selected choice\u001b[39;00m\n\u001b[0;32m     88\u001b[0m     \u001b[38;5;28mprint\u001b[39m(\u001b[38;5;124m\"\u001b[39m\u001b[38;5;130;01m\\n\u001b[39;00m\u001b[38;5;124mLibrary Management System: \u001b[39m\u001b[38;5;124m\"\u001b[39m)\n",
      "Cell \u001b[1;32mIn[12], line 25\u001b[0m, in \u001b[0;36mLibrary.__init__\u001b[1;34m(self, book_file)\u001b[0m\n\u001b[0;32m     23\u001b[0m \u001b[38;5;28;01mdef\u001b[39;00m \u001b[38;5;21m__init__\u001b[39m(\u001b[38;5;28mself\u001b[39m, book_file\u001b[38;5;241m=\u001b[39m\u001b[38;5;124m\"\u001b[39m\u001b[38;5;124mlibrary_books.txt\u001b[39m\u001b[38;5;124m\"\u001b[39m):\n\u001b[0;32m     24\u001b[0m     \u001b[38;5;28mself\u001b[39m\u001b[38;5;241m.\u001b[39mbook_file \u001b[38;5;241m=\u001b[39m book_file\n\u001b[1;32m---> 25\u001b[0m     \u001b[38;5;28mself\u001b[39m\u001b[38;5;241m.\u001b[39mbooks \u001b[38;5;241m=\u001b[39m \u001b[38;5;28;43mself\u001b[39;49m\u001b[38;5;241;43m.\u001b[39;49m\u001b[43mload_books\u001b[49m\u001b[43m(\u001b[49m\u001b[43m)\u001b[49m\n",
      "Cell \u001b[1;32mIn[12], line 30\u001b[0m, in \u001b[0;36mLibrary.load_books\u001b[1;34m(self)\u001b[0m\n\u001b[0;32m     28\u001b[0m \u001b[38;5;28;01mdef\u001b[39;00m \u001b[38;5;21mload_books\u001b[39m(\u001b[38;5;28mself\u001b[39m):\n\u001b[0;32m     29\u001b[0m     books \u001b[38;5;241m=\u001b[39m []\n\u001b[1;32m---> 30\u001b[0m     file \u001b[38;5;241m=\u001b[39m \u001b[38;5;28;43mopen\u001b[39;49m\u001b[43m(\u001b[49m\u001b[38;5;28;43mself\u001b[39;49m\u001b[38;5;241;43m.\u001b[39;49m\u001b[43mbook_file\u001b[49m\u001b[43m,\u001b[49m\u001b[38;5;124;43m'\u001b[39;49m\u001b[38;5;124;43mr\u001b[39;49m\u001b[38;5;124;43m'\u001b[39;49m\u001b[43m)\u001b[49m\n\u001b[0;32m     31\u001b[0m     \u001b[38;5;28;01mfor\u001b[39;00m line \u001b[38;5;129;01min\u001b[39;00m file:\n\u001b[0;32m     32\u001b[0m         data \u001b[38;5;241m=\u001b[39m line\u001b[38;5;241m.\u001b[39mstrip()\u001b[38;5;241m.\u001b[39msplit(\u001b[38;5;124m'\u001b[39m\u001b[38;5;124m,\u001b[39m\u001b[38;5;124m'\u001b[39m)\n",
      "File \u001b[1;32m~\\AppData\\Local\\Programs\\Python\\Python312\\Lib\\site-packages\\IPython\\core\\interactiveshell.py:324\u001b[0m, in \u001b[0;36m_modified_open\u001b[1;34m(file, *args, **kwargs)\u001b[0m\n\u001b[0;32m    317\u001b[0m \u001b[38;5;28;01mif\u001b[39;00m file \u001b[38;5;129;01min\u001b[39;00m {\u001b[38;5;241m0\u001b[39m, \u001b[38;5;241m1\u001b[39m, \u001b[38;5;241m2\u001b[39m}:\n\u001b[0;32m    318\u001b[0m     \u001b[38;5;28;01mraise\u001b[39;00m \u001b[38;5;167;01mValueError\u001b[39;00m(\n\u001b[0;32m    319\u001b[0m         \u001b[38;5;124mf\u001b[39m\u001b[38;5;124m\"\u001b[39m\u001b[38;5;124mIPython won\u001b[39m\u001b[38;5;124m'\u001b[39m\u001b[38;5;124mt let you open fd=\u001b[39m\u001b[38;5;132;01m{\u001b[39;00mfile\u001b[38;5;132;01m}\u001b[39;00m\u001b[38;5;124m by default \u001b[39m\u001b[38;5;124m\"\u001b[39m\n\u001b[0;32m    320\u001b[0m         \u001b[38;5;124m\"\u001b[39m\u001b[38;5;124mas it is likely to crash IPython. If you know what you are doing, \u001b[39m\u001b[38;5;124m\"\u001b[39m\n\u001b[0;32m    321\u001b[0m         \u001b[38;5;124m\"\u001b[39m\u001b[38;5;124myou can use builtins\u001b[39m\u001b[38;5;124m'\u001b[39m\u001b[38;5;124m open.\u001b[39m\u001b[38;5;124m\"\u001b[39m\n\u001b[0;32m    322\u001b[0m     )\n\u001b[1;32m--> 324\u001b[0m \u001b[38;5;28;01mreturn\u001b[39;00m \u001b[43mio_open\u001b[49m\u001b[43m(\u001b[49m\u001b[43mfile\u001b[49m\u001b[43m,\u001b[49m\u001b[43m \u001b[49m\u001b[38;5;241;43m*\u001b[39;49m\u001b[43margs\u001b[49m\u001b[43m,\u001b[49m\u001b[43m \u001b[49m\u001b[38;5;241;43m*\u001b[39;49m\u001b[38;5;241;43m*\u001b[39;49m\u001b[43mkwargs\u001b[49m\u001b[43m)\u001b[49m\n",
      "\u001b[1;31mFileNotFoundError\u001b[0m: [Errno 2] No such file or directory: 'library_books.txt'"
     ]
    }
   ],
   "source": [
    "class Book:\n",
    "    def __init__(self, title, author, isbn, available=True):\n",
    "        self.title = title\n",
    "        self.author = author\n",
    "        self.isbn = isbn\n",
    "        self.available = available\n",
    "\n",
    "    def display_info(self):\n",
    "        print(f\"Title: {self.title}\")\n",
    "        print(f\"Author: {self.author}\")\n",
    "        print(f\"ISBN: {self.isbn}\")\n",
    "        if self.available:\n",
    "            print(\"Status: Available\")\n",
    "        else:\n",
    "            print(\"Status: Issued\")\n",
    "\n",
    "class Library:\n",
    "    def __init__(self):\n",
    "        self.books = []\n",
    "\n",
    "    def add_book(self, book):\n",
    "        self.books.append(book)\n",
    "\n",
    "    def issue_book(self, isbn):\n",
    "        for book in self.books:\n",
    "            if book.isbn == isbn and book.available:\n",
    "                book.available = False\n",
    "                return book\n",
    "        return None\n",
    "\n",
    "    def return_book(self, isbn):\n",
    "        for book in self.books:\n",
    "            if book.isbn == isbn and not book.available:\n",
    "                book.available = True\n",
    "                return book\n",
    "        return None\n",
    "\n",
    "    def search_book(self, title):\n",
    "        for book in self.books:\n",
    "            if book.title.lower() == title.lower():\n",
    "                return book\n",
    "        return None\n",
    "\n",
    "class User:\n",
    "    def __init__(self, name, id):\n",
    "        self.name = name\n",
    "        self.id = id\n",
    "\n",
    "library = Library()\n",
    "book1 = Book(\"Introduction To programming\", \"Saroj sharma\", \"978-0134444321\")\n",
    "book2 = Book(\"Data Science Handbook\", \"Jane Smith\", \"978-1491912058\")\n",
    "library.add_book(book1)\n",
    "library.add_book(book2)\n",
    "\n",
    "while True:\n",
    "    print(\"\\nLibrary Menu:\")\n",
    "    print(\"1. Issue a book\")\n",
    "    print(\"2. Return a book\")\n",
    "    print(\"3. Search for a book\")\n",
    "    print(\"4. Exit\")\n",
    "\n",
    "    choice = input(\"Enter your choice: \")\n",
    "\n",
    "    if choice == '1':\n",
    "        isbn = input(\"Enter the ISBN of the book to issue: \")\n",
    "        issued_book = library.issue_book(isbn)\n",
    "        if issued_book:\n",
    "            print(f\"Book '{issued_book.title}' issued successfully.\")\n",
    "        else:\n",
    "            print(\"Book not available or ISBN not found.\")\n",
    "    elif choice == '2':\n",
    "        isbn = input(\"Enter the ISBN of the book to return: \")\n",
    "        returned_book = library.return_book(isbn)\n",
    "        if returned_book:\n",
    "            print(f\"Book '{returned_book.title}' returned successfully.\")\n",
    "        else:\n",
    "            print(\"Book not issued or ISBN not found.\")\n",
    "    elif choice == '3':\n",
    "        title = input(\"Enter the title of the book to search: \")\n",
    "        found_book = library.search_book(title)\n",
    "        if found_book:\n",
    "            print(\"Book found:\")\n",
    "            found_book.display_info()\n",
    "        else:\n",
    "            print(\"Book not found.\")\n",
    "    elif choice == '4':\n",
    "        print(\"Exiting, Please visit again.\")\n",
    "        break\n",
    "    else:\n",
    "        print(\"Invalid choice. Please enter a valid option.\")\n"
   ]
  },
  {
   "cell_type": "markdown",
   "id": "53123918-0974-450b-a065-ae1d9c58bc7b",
   "metadata": {},
   "source": []
  },
  {
   "cell_type": "code",
   "execution_count": null,
   "id": "77230793-3e3b-4da8-b2c1-59e53da7c538",
   "metadata": {},
   "outputs": [],
   "source": []
  }
 ],
 "metadata": {
  "kernelspec": {
   "display_name": "Python 3 (ipykernel)",
   "language": "python",
   "name": "python3"
  },
  "language_info": {
   "codemirror_mode": {
    "name": "ipython",
    "version": 3
   },
   "file_extension": ".py",
   "mimetype": "text/x-python",
   "name": "python",
   "nbconvert_exporter": "python",
   "pygments_lexer": "ipython3",
   "version": "3.12.3"
  }
 },
 "nbformat": 4,
 "nbformat_minor": 5
}
