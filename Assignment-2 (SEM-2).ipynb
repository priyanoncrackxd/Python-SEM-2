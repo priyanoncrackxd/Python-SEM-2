{
 "cells": [
  {
   "cell_type": "code",
   "execution_count": 1,
   "id": "86c92ff8-47aa-4175-acd1-afcf79df414d",
   "metadata": {
    "scrolled": true
   },
   "outputs": [
    {
     "name": "stdin",
     "output_type": "stream",
     "text": [
      "Enter your first number: 1\n",
      "Enter your second number: 2\n"
     ]
    },
    {
     "name": "stdout",
     "output_type": "stream",
     "text": [
      "1. sum=  3.0\n",
      "2. difference=  -1.0\n",
      "3. product=  2.0\n"
     ]
    }
   ],
   "source": [
    "#1. Write a program to create a function which accepts 2 numbers and displays the sum, difference, product and the remainder values.\n",
    "\n",
    "def calc():\n",
    "    a=float(input(\"Enter your first number:\"))\n",
    "    b=float(input(\"Enter your second number:\"))\n",
    "    print(\"1. sum= \",a+b)\n",
    "    print(\"2. difference= \",a-b)\n",
    "    print(\"3. product= \", a*b)\n",
    "calc()\n",
    "    "
   ]
  },
  {
   "cell_type": "markdown",
   "id": "eb0709dd-2bb3-4e0e-a3ee-39fa9f8127dd",
   "metadata": {},
   "source": [
    "2. Write a program to create separate functions for below mentioned mathematical calculations which would return the values back to the program. The functions should accept the 2 number which are inputs from the user and passed to them. The program should display the output in a proper format.\n",
    "I.\tAddition\n",
    "II.\tSubtraction\n",
    "III.\tMultiplication\n",
    "IV.\tDivision\n",
    "V.\tModulo division\n",
    "VI.\tFloor division\n"
   ]
  },
  {
   "cell_type": "code",
   "execution_count": 10,
   "id": "ea5a7f66-6128-4116-8b92-a6074387ddd4",
   "metadata": {},
   "outputs": [
    {
     "name": "stdin",
     "output_type": "stream",
     "text": [
      "Enter your first number: 5\n",
      "Enter your second number: 2\n"
     ]
    },
    {
     "name": "stdout",
     "output_type": "stream",
     "text": [
      "1. Addition:: 7.0\n",
      "2. Substract:: 3.0\n",
      "3. Multi:: 10.0\n",
      "4. Division:: 2.5\n",
      "5. Modulo division:: 1.0\n",
      "6. Floor division:: 2.0\n"
     ]
    }
   ],
   "source": [
    "def calcu():\n",
    "    a=float(input(\"Enter your first number:\"))\n",
    "    b=float(input(\"Enter your second number:\"))\n",
    "    def add():\n",
    "        return a+b\n",
    "\n",
    "    def subs():\n",
    "        return a-b\n",
    "\n",
    "    def multi():\n",
    "        return a*b\n",
    "\n",
    "    def division():\n",
    "        return a/b\n",
    "\n",
    "    def mod_div():\n",
    "        return a%b\n",
    "\n",
    "    def floor_div():\n",
    "        return a//b\n",
    "\n",
    "    print(\"1. Addition::\",add())\n",
    "    print(\"2. Substract::\",subs())\n",
    "    print(\"3. Multi::\",multi())\n",
    "    print(\"4. Division::\",division())\n",
    "    print(\"5. Modulo division::\",mod_div())\n",
    "    print(\"6. Floor division::\",floor_div())\n",
    "calcu()\n",
    "\n"
   ]
  },
  {
   "cell_type": "markdown",
   "id": "4df7a99a-5000-4d20-951e-572685179b5e",
   "metadata": {},
   "source": [
    "3. Write a program to create a function which will accept a parameter and return the factorial of the number. The output should be displayed in a proper format."
   ]
  },
  {
   "cell_type": "code",
   "execution_count": 22,
   "id": "cabc22bc-0365-4ada-bb8d-e78403bf5511",
   "metadata": {
    "scrolled": true
   },
   "outputs": [
    {
     "name": "stdin",
     "output_type": "stream",
     "text": [
      "1.Enter any number 6\n"
     ]
    },
    {
     "data": {
      "text/plain": [
       "720"
      ]
     },
     "execution_count": 22,
     "metadata": {},
     "output_type": "execute_result"
    }
   ],
   "source": [
    "def hat(a):\n",
    "    result=1\n",
    "    for i in range(1,a+1):\n",
    "                result*=i\n",
    "    return result\n",
    "a=int(input(\"1.Enter any number\"))\n",
    "hat(a)\n",
    "                \n",
    "    "
   ]
  },
  {
   "cell_type": "markdown",
   "id": "ca9923b3-0806-4260-afd3-bbb34c425171",
   "metadata": {},
   "source": [
    "4. Write a function to accept a list of numbers and print the occurrence of each number. The function should be tested well in the program by calling and sending various list of numbers"
   ]
  },
  {
   "cell_type": "code",
   "execution_count": 2,
   "id": "861bb3a3-c811-4044-9348-8bd12f7220a1",
   "metadata": {},
   "outputs": [
    {
     "name": "stdout",
     "output_type": "stream",
     "text": [
      "[1, 2, 3, 4, 5, 6, 7, 1, 2, 3]\n",
      "{1: 2, 2: 2, 3: 2, 4: 1, 5: 1, 6: 1, 7: 1}\n"
     ]
    }
   ],
   "source": [
    "def mouse(*r):\n",
    "    j = {}\n",
    "    re = list(r)\n",
    "    print(re)\n",
    "    for i in re:\n",
    "        if i in j:\n",
    "            j[i] += 1\n",
    "        else:\n",
    "            j[i] = 1\n",
    "    return j\n",
    "\n",
    "result = mouse(1, 2, 3, 4, 5, 6, 7, 1, 2, 3)\n",
    "print(result)\n"
   ]
  },
  {
   "cell_type": "markdown",
   "id": "e7f6c4ab-cb48-4f93-9524-07e4d46f5350",
   "metadata": {},
   "source": [
    "5.Write a function to accept a list of names and return the sorted order of names back."
   ]
  },
  {
   "cell_type": "code",
   "execution_count": 4,
   "id": "6c561bca-4c26-462c-af5d-bed74f5bb2dc",
   "metadata": {
    "jp-MarkdownHeadingCollapsed": true
   },
   "outputs": [
    {
     "name": "stdout",
     "output_type": "stream",
     "text": [
      "Sorted names: ['law', 'luffy', 'oden', 'roger', 'zoro']\n"
     ]
    }
   ],
   "source": [
    "def sort_names(names):\n",
    "    return sorted(names)\n",
    "\n",
    "\n",
    "names_list = [\"luffy\", \"zoro\", \"law\", \"oden\", \"roger\"]\n",
    "sorted_names = sort_names(names_list)\n",
    "print(\"Sorted names:\", sorted_names)"
   ]
  },
  {
   "cell_type": "markdown",
   "id": "871c3bde-5674-4b5b-8df7-e22eae6df68c",
   "metadata": {},
   "source": [
    "6.Write a function to accept a 2 parameters, one is the list of cities and another is the city that the user wants to search. The function should search the city in the list of cities and return the index of the list where the city is available. If the city is not available, the program should return a proper message."
   ]
  },
  {
   "cell_type": "code",
   "execution_count": 3,
   "id": "34df90f0-865f-4a38-beb2-7f89ad75035c",
   "metadata": {},
   "outputs": [
    {
     "name": "stdin",
     "output_type": "stream",
     "text": [
      "Enter a city of Nepal: bhaktapur\n"
     ]
    },
    {
     "name": "stdout",
     "output_type": "stream",
     "text": [
      "The city that you are looking for is not found in the list\n"
     ]
    }
   ],
   "source": [
    "cities_list = [\"kathmandu\", \"pokhara\", \"janakpur\", \"mustang\", \"biratnagar\"]\n",
    "search_city = input(\"Enter a city of Nepal:\")\n",
    "\n",
    "def nepal(cities_list, search_city):\n",
    "    if search_city in cities_list:\n",
    "        return cities_list.index(search_city)\n",
    "    else:\n",
    "        return \"The city that you are looking for is not found in the list\"\n",
    "\n",
    "output = nepal(cities_list, search_city)\n",
    "\n",
    "if isinstance(output, int):\n",
    "    print(f\"The index of the city {search_city} is {output}\")\n",
    "else:\n",
    "    print(output)"
   ]
  },
  {
   "cell_type": "markdown",
   "id": "4589eb86-ba96-417a-8925-17a12240f13a",
   "metadata": {},
   "source": [
    "7."
   ]
  },
  {
   "cell_type": "code",
   "execution_count": 1,
   "id": "a6bca953-8c85-4659-a296-480bae9c54a0",
   "metadata": {},
   "outputs": [
    {
     "name": "stdin",
     "output_type": "stream",
     "text": [
      "enter a sentence:  hello\n"
     ]
    },
    {
     "name": "stdout",
     "output_type": "stream",
     "text": [
      "occurence of hello = 1\n"
     ]
    }
   ],
   "source": [
    "def word_frequency(sentence): #counts the number of times each word has been repeated\n",
    "    count= {}\n",
    "    words= sentence.split()\n",
    "    for n in words:\n",
    "        if n in count:\n",
    "            count[n] = count[n] + 1\n",
    "        else:\n",
    "            count[n]=1\n",
    "    return count\n",
    "    \n",
    "sentence= input(\"enter a sentence: \")\n",
    "iteration = word_frequency(sentence)\n",
    "\n",
    "for key,value in iteration.items():\n",
    "     print(f\"occurence of {key} = {value}\")"
   ]
  },
  {
   "cell_type": "markdown",
   "id": "d14dba2b-4f64-4264-a937-e152d3fb1d8f",
   "metadata": {},
   "source": [
    "8."
   ]
  },
  {
   "cell_type": "code",
   "execution_count": 3,
   "id": "d7392944-ed48-436f-959e-5ef008437839",
   "metadata": {},
   "outputs": [
    {
     "name": "stdin",
     "output_type": "stream",
     "text": [
      "enter list element 1\n",
      "do you want to add more elements?y/n n\n"
     ]
    },
    {
     "name": "stdout",
     "output_type": "stream",
     "text": [
      "your list is:  [1]\n",
      "after duplicate element elimination, your list is:  [1]\n"
     ]
    }
   ],
   "source": [
    "def remove_element(lst): #eliminates duplicate element from the list\n",
    "    list2= []\n",
    "    for number in lst:\n",
    "        if number not in list2:\n",
    "            list2.append(number)\n",
    "    return list2\n",
    "\n",
    "list= []\n",
    "choice = \"y\"\n",
    "while (choice == \"y\"):\n",
    "    element = int(input(\"enter list element\"))\n",
    "    list.append(element)\n",
    "    choice = input(\"do you want to add more elements?y/n\")\n",
    "print(\"your list is: \",list)\n",
    "new_list = remove_element(list)\n",
    "print(\"after duplicate element elimination, your list is: \",new_list)"
   ]
  },
  {
   "cell_type": "markdown",
   "id": "89da3b30-5772-4398-8d37-a7a0df8013d8",
   "metadata": {},
   "source": [
    "9."
   ]
  },
  {
   "cell_type": "code",
   "execution_count": 4,
   "id": "6266e6e5-dd0c-4800-b76e-8ecc1f94e7f1",
   "metadata": {},
   "outputs": [
    {
     "name": "stdin",
     "output_type": "stream",
     "text": [
      "enter title of the book title\n",
      "enter the name of author of the book joe\n",
      "enter the ISBN of the book owiw\n",
      "enter the cost of the book wiud\n",
      "enter title of the book we\n",
      "enter the name of author of the book we\n",
      "enter the ISBN of the book we\n",
      "enter the cost of the book we\n",
      "enter title of the book we\n",
      "enter the name of author of the book we\n",
      "enter the ISBN of the book we\n",
      "enter the cost of the book we\n",
      "enter title of the book the godfather\n",
      "enter the name of author of the book joe rogan\n",
      "enter the ISBN of the book 555664\n",
      "enter the cost of the book 665\n",
      "enter title of the book we\n",
      "enter the name of author of the book 1\n",
      "enter the ISBN of the book 1\n",
      "enter the cost of the book 1\n"
     ]
    },
    {
     "name": "stdout",
     "output_type": "stream",
     "text": [
      "details of book1:\n",
      "book title:  title\n",
      "book author:  joe\n",
      "book ISBN:  owiw\n",
      "book cost:  wiud\n",
      "details of book2:\n",
      "book title:  we\n",
      "book author:  we\n",
      "book ISBN:  we\n",
      "book cost:  we\n",
      "details of book3:\n",
      "book title:  we\n",
      "book author:  we\n",
      "book ISBN:  we\n",
      "book cost:  we\n",
      "details of book4:\n",
      "book title:  the godfather\n",
      "book author:  joe rogan\n",
      "book ISBN:  555664\n",
      "book cost:  665\n",
      "details of book5:\n",
      "book title:  we\n",
      "book author:  1\n",
      "book ISBN:  1\n",
      "book cost:  1\n"
     ]
    }
   ],
   "source": [
    "books = {}\n",
    "for i in range(1,6):\n",
    "    details = []\n",
    "    title = input(\"enter title of the book\")\n",
    "    author = input(\"enter the name of author of the book\")\n",
    "    ISBN = input(\"enter the ISBN of the book\")\n",
    "    cost = input(\"enter the cost of the book\")\n",
    "    details.append(title)\n",
    "    details.append(author)\n",
    "    details.append(ISBN)\n",
    "    details.append(cost)\n",
    "    books[i] = details\n",
    "    \n",
    "for book,details in books.items():\n",
    "    print(f\"details of book{book}:\")\n",
    "    print(\"book title: \",details[0])\n",
    "    print(\"book author: \",details[1])\n",
    "    print(\"book ISBN: \",details[2])\n",
    "    print(\"book cost: \",details[3])"
   ]
  },
  {
   "cell_type": "markdown",
   "id": "bfb4914d-3567-41a8-8c6f-6e29cf83a011",
   "metadata": {},
   "source": [
    "10."
   ]
  },
  {
   "cell_type": "code",
   "execution_count": 5,
   "id": "2e38ab99-6752-4d8b-be67-7fdeaab3ea8d",
   "metadata": {},
   "outputs": [
    {
     "name": "stdin",
     "output_type": "stream",
     "text": [
      "enter your number element 89\n",
      "do you want to add more elements? y/n y\n",
      "enter your number element 98\n",
      "do you want to add more elements? y/n n\n"
     ]
    },
    {
     "name": "stdout",
     "output_type": "stream",
     "text": [
      "list for even elememnts is: [98]\n",
      "list for odd element is:  [89]\n"
     ]
    }
   ],
   "source": [
    "\n",
    "even_list=[]\n",
    "odd_list=[]\n",
    "choice= \"y\"\n",
    "\n",
    "while (choice==\"y\"):\n",
    "    element= int(input(\"enter your number element\"))\n",
    "    if (element%2==0): #checks if the input is odd or even and directs them to their respective list\n",
    "        even_list.append(element)\n",
    "    else:\n",
    "        odd_list.append(element)\n",
    "    choice= input(\"do you want to add more elements? y/n\")\n",
    "    \n",
    "print(\"list for even elememnts is:\", even_list)\n",
    "print(\"list for odd element is: \", odd_list)"
   ]
  },
  {
   "cell_type": "markdown",
   "id": "861eae7d-50f0-4c76-940d-92f481071283",
   "metadata": {},
   "source": [
    "11."
   ]
  },
  {
   "cell_type": "code",
   "execution_count": 6,
   "id": "924a58f6-ef5c-441b-9ee3-4ff9ccf09de7",
   "metadata": {},
   "outputs": [
    {
     "name": "stdin",
     "output_type": "stream",
     "text": [
      "guess the card value 77\n",
      "guess the card suit 88\n"
     ]
    },
    {
     "name": "stdout",
     "output_type": "stream",
     "text": [
      "💔\n",
      "Game Over\n",
      "the card was: 9 of heart\n"
     ]
    }
   ],
   "source": [
    "import random\n",
    "\n",
    "card_value = [\"Ace\",2,3,4,5,6,7,8,9,\"Jack\",\"Queen\",\"King\"]\n",
    "card_suits = [\"heart\",\"diamond\",\"club\",\"spades\"]\n",
    "number = random.choice(card_value)\n",
    "suits = random.choice(card_suits)\n",
    "guess_number = input(\"guess the card value\")\n",
    "guess_suit = input(\"guess the card suit\")\n",
    "\n",
    "if (guess_number != number and guess_suit != suits):\n",
    "    print(\"💔\")\n",
    "    print(\"Game Over\")\n",
    "    print(f\"the card was: {number} of {suits}\")\n",
    "elif (guess_number == number and guess_suit == suits):\n",
    "    print(\"❤️😊\")\n",
    "    print(f\"Your guess is correct. The card was: {number} of {suits}\")\n",
    "else:\n",
    "    print(\"😊\")\n",
    "    print(f\"the card was: {number} of {suits}\")\n",
    "\n",
    "    \n",
    "                      "
   ]
  },
  {
   "cell_type": "code",
   "execution_count": null,
   "id": "b17e776e-42e7-4efe-b350-897baca3b32b",
   "metadata": {},
   "outputs": [],
   "source": []
  }
 ],
 "metadata": {
  "kernelspec": {
   "display_name": "Python 3 (ipykernel)",
   "language": "python",
   "name": "python3"
  },
  "language_info": {
   "codemirror_mode": {
    "name": "ipython",
    "version": 3
   },
   "file_extension": ".py",
   "mimetype": "text/x-python",
   "name": "python",
   "nbconvert_exporter": "python",
   "pygments_lexer": "ipython3",
   "version": "3.12.3"
  }
 },
 "nbformat": 4,
 "nbformat_minor": 5
}
