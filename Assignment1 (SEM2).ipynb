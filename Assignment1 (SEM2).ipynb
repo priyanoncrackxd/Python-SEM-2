{
 "cells": [
  {
   "cell_type": "markdown",
   "id": "a7d22ac5-732d-4750-8dd4-8c2e468fcb20",
   "metadata": {},
   "source": [
    "2-Write a program to input 2 numbers from the users and display the output of below mentioned\n",
    "operations in a proper format.\n",
    "\n"
   ]
  },
  {
   "cell_type": "code",
   "execution_count": 10,
   "id": "b5345209-9d8e-4c03-9630-8432e6d17ea9",
   "metadata": {},
   "outputs": [
    {
     "name": "stdin",
     "output_type": "stream",
     "text": [
      "The first number is: 20\n",
      "The second number is: 2\n"
     ]
    },
    {
     "name": "stdout",
     "output_type": "stream",
     "text": [
      "22\n",
      "18\n",
      "40\n",
      "10.0\n",
      "0\n",
      "10\n"
     ]
    }
   ],
   "source": [
    "number1 = int(input(\"The first number is:\"))\n",
    "number2 = int(input(\"The second number is:\"))\n",
    "add = number1 + number2\n",
    "substract = number1-number2\n",
    "multiplication = number1*number2\n",
    "division = number1/number2\n",
    "mod_div = number1%number2\n",
    "floor_div = number1//number2\n",
    "print(add)\n",
    "print(substract)\n",
    "print(multiplication)\n",
    "print(division)\n",
    "print(mod_div) #mod_div stands for modulo division\n",
    "print(floor_div) #floor_div stands for floor division\n",
    "                            "
   ]
  },
  {
   "cell_type": "markdown",
   "id": "3c99a3ed-0479-4c30-8154-1b4043c4af96",
   "metadata": {},
   "source": [
    "3. Write a program to take a number input from the user and display whether the number is even or\n",
    "odd."
   ]
  },
  {
   "cell_type": "code",
   "execution_count": 24,
   "id": "a34b59eb-aaef-4964-9dc1-3f0e8e69e229",
   "metadata": {},
   "outputs": [
    {
     "name": "stdin",
     "output_type": "stream",
     "text": [
      "Enter any number: 5\n"
     ]
    },
    {
     "name": "stdout",
     "output_type": "stream",
     "text": [
      "5 is odd.\n"
     ]
    }
   ],
   "source": [
    "\n",
    "number=int(input(\"Enter any number:\"))\n",
    "if number % 2 == 0:\n",
    "    print(f\"{number} is even.\")\n",
    "else:\n",
    "    print(f\"{number} is odd.\")"
   ]
  },
  {
   "cell_type": "markdown",
   "id": "c80d50fc-2103-4ccd-8c0b-f43e88de1472",
   "metadata": {},
   "source": [
    "4-Write a program to take a number input from the user and display the result of some mathematical\n",
    "calculations"
   ]
  },
  {
   "cell_type": "code",
   "execution_count": 37,
   "id": "7a3fd247-df80-4706-97b0-ae5aec70acae",
   "metadata": {},
   "outputs": [
    {
     "name": "stdin",
     "output_type": "stream",
     "text": [
      "Enter the number 5\n"
     ]
    },
    {
     "name": "stdout",
     "output_type": "stream",
     "text": [
      "The square of the number is  25\n",
      "The square root of the number is  2.5\n",
      "The log base 10 of the number 0.6989700043360189\n",
      "The power of 3, 4 and 5 of the number is 125 625 3125\n"
     ]
    }
   ],
   "source": [
    "import math\n",
    "num=int(input(\"Enter the number\"))\n",
    "print(\"The square of the number is \",num**2)\n",
    "print(\"The square root of the number is \",num**1/2)\n",
    "#print(\"The exponent value of the number\",)\n",
    "print(\"The log base 10 of the number\",math.log10(num))\n",
    "print(\"The power of 3, 4 and 5 of the number is\",num**3,num**4,num**5)"
   ]
  },
  {
   "cell_type": "markdown",
   "id": "62a4ead7-c15e-4d5c-9ef1-0a816c867dd0",
   "metadata": {},
   "source": [
    "5. Solve the below mentioned expressions in a python program. Feel free to take input of the required\n",
    "variables to solve the expressions."
   ]
  },
  {
   "cell_type": "code",
   "execution_count": 48,
   "id": "7f251e1e-a62e-47d1-ab4b-e78bf294ebe4",
   "metadata": {},
   "outputs": [
    {
     "name": "stdin",
     "output_type": "stream",
     "text": [
      "Enter first number: 2\n",
      "Enter second number: 3\n",
      "Enter third number: 4\n"
     ]
    },
    {
     "name": "stdout",
     "output_type": "stream",
     "text": [
      "The output of a^2 +2ab+ b^2 is:: 25\n",
      "The output of a^5 +2abc +b^3+ c^4 is:: 363\n",
      "The output of a^7+ 5a^3b^2c^6 +b^7 is:: 1476875\n"
     ]
    }
   ],
   "source": [
    "a =int(input(\"Enter first number:\"))\n",
    "b =int(input(\"Enter second number:\"))\n",
    "c =int(input(\"Enter third number:\"))\n",
    "print(\"The output of a^2 +2ab+ b^2 is::\",a**2+2*a*b+b**2)\n",
    "print(\"The output of a^5 +2abc +b^3+ c^4 is::\",a**5+2*a*b*c+b**3+c**4)\n",
    "print(\"The output of a^7+ 5a^3b^2c^6 +b^7 is::\",a**7+5*a**3*b**2*c**6+b**7)\n",
    "      \n",
    "       \n",
    "      "
   ]
  },
  {
   "cell_type": "markdown",
   "id": "29165e7b-fa30-4f02-b7db-2cf47db075aa",
   "metadata": {},
   "source": [
    "6. Write a program to input the number of 5 subjects from the user, calculate the average, total,\n",
    "percentage and division of the students."
   ]
  },
  {
   "cell_type": "code",
   "execution_count": 11,
   "id": "10d4b5b0-0f55-48b5-89e9-ca840779e9f1",
   "metadata": {},
   "outputs": [
    {
     "name": "stdin",
     "output_type": "stream",
     "text": [
      "Enter the marks of first subject:: 55\n",
      "Enter the marks of second subject:: 50\n",
      "Enter the marks of third subject:: 56\n",
      "Enter the marks of fourth subject:: 57\n",
      "Enter the marks of fifth subject:: 58\n"
     ]
    },
    {
     "name": "stdout",
     "output_type": "stream",
     "text": [
      "The average marks is: 55.2\n",
      "The total marks is: 276.0\n",
      "The total percentage that was obtained is 55.2\n",
      "Congratulations! You have obtained Second Division\n"
     ]
    }
   ],
   "source": [
    "subject1=float(input(\"Enter the marks of first subject::\"))\n",
    "subject2=float(input(\"Enter the marks of second subject::\"))\n",
    "subject3=float(input(\"Enter the marks of third subject::\"))\n",
    "subject4=float(input(\"Enter the marks of fourth subject::\"))\n",
    "subject5=float(input(\"Enter the marks of fifth subject::\"))\n",
    "\n",
    "average=(subject1+subject2+subject3+subject4+subject5)/5\n",
    "print(\"The average marks is:\", average)\n",
    "total=(subject1+subject2+subject3+subject4+subject5)\n",
    "print(\"The total marks is:\", total)\n",
    "percentage=(total/500)*100\n",
    "print(\"The total percentage that was obtained is\",percentage)\n",
    "if percentage>=80 and percentage<=100:\n",
    "    print(\"Congratulations! You have obtained Distinction\")\n",
    "elif percentage>=60 and percentage<80:\n",
    "    print(\"Congratulations! You have obtained First Division\")\n",
    "elif percentage>=50 and percentage<60:\n",
    "    print(\"Congratulations! You have obtained Second Division\")\n",
    "elif percentage>=40 and percentage<50:\n",
    "    print(\"Congratulations! You have obtained Third Division\")\n",
    "else:\n",
    "    print(\"Failed, Better luck next time\")\n",
    "\n"
   ]
  },
  {
   "cell_type": "markdown",
   "id": "570120d8-1ff3-4a9a-b3f7-03fdb7bec490",
   "metadata": {},
   "source": [
    "7.Write a program to display the prime number between 2 numbers input by the users. Also print the\n",
    "sum of all the prime numbers. "
   ]
  },
  {
   "cell_type": "code",
   "execution_count": 8,
   "id": "5e48be2a-5896-49b3-bdd2-bdebbb4948c7",
   "metadata": {},
   "outputs": [
    {
     "name": "stdin",
     "output_type": "stream",
     "text": [
      "Enter your first number:: 2\n",
      "Enter your second number:: 20\n"
     ]
    },
    {
     "name": "stdout",
     "output_type": "stream",
     "text": [
      "7\n",
      "14\n"
     ]
    }
   ],
   "source": [
    "num1=int(input(\"Enter your first number::\"))\n",
    "num2=int(input(\"Enter your second number::\"))\n",
    "for i in range(num1 , num2 + 1 ):\n",
    "    if(i%7==0 and i%5!= 0):\n",
    "        print(i)"
   ]
  },
  {
   "cell_type": "markdown",
   "id": "39348b22-d0a7-4fe3-a21e-90080c914515",
   "metadata": {},
   "source": [
    "8.Write a program which will find all such numbers that are divisible by 7 but are not a multiple of 5,\n",
    "between 2000 and 3200 (both included). The numbers should be printed on the output screen. Also\n",
    "try the same program by replacing 2000 and 3200 by taking input for them from the users."
   ]
  },
  {
   "cell_type": "code",
   "execution_count": 11,
   "id": "9e050389-cb21-4f0e-b60b-255b2367239b",
   "metadata": {},
   "outputs": [
    {
     "name": "stdout",
     "output_type": "stream",
     "text": [
      "2002\n",
      "2009\n",
      "2016\n",
      "2023\n",
      "2037\n",
      "2044\n",
      "2051\n",
      "2058\n",
      "2072\n",
      "2079\n",
      "2086\n",
      "2093\n",
      "2107\n",
      "2114\n",
      "2121\n",
      "2128\n",
      "2142\n",
      "2149\n",
      "2156\n",
      "2163\n",
      "2177\n",
      "2184\n",
      "2191\n",
      "2198\n",
      "2212\n",
      "2219\n",
      "2226\n",
      "2233\n",
      "2247\n",
      "2254\n",
      "2261\n",
      "2268\n",
      "2282\n",
      "2289\n",
      "2296\n",
      "2303\n",
      "2317\n",
      "2324\n",
      "2331\n",
      "2338\n",
      "2352\n",
      "2359\n",
      "2366\n",
      "2373\n",
      "2387\n",
      "2394\n",
      "2401\n",
      "2408\n",
      "2422\n",
      "2429\n",
      "2436\n",
      "2443\n",
      "2457\n",
      "2464\n",
      "2471\n",
      "2478\n",
      "2492\n",
      "2499\n",
      "2506\n",
      "2513\n",
      "2527\n",
      "2534\n",
      "2541\n",
      "2548\n",
      "2562\n",
      "2569\n",
      "2576\n",
      "2583\n",
      "2597\n",
      "2604\n",
      "2611\n",
      "2618\n",
      "2632\n",
      "2639\n",
      "2646\n",
      "2653\n",
      "2667\n",
      "2674\n",
      "2681\n",
      "2688\n",
      "2702\n",
      "2709\n",
      "2716\n",
      "2723\n",
      "2737\n",
      "2744\n",
      "2751\n",
      "2758\n",
      "2772\n",
      "2779\n",
      "2786\n",
      "2793\n",
      "2807\n",
      "2814\n",
      "2821\n",
      "2828\n",
      "2842\n",
      "2849\n",
      "2856\n",
      "2863\n",
      "2877\n",
      "2884\n",
      "2891\n",
      "2898\n",
      "2912\n",
      "2919\n",
      "2926\n",
      "2933\n",
      "2947\n",
      "2954\n",
      "2961\n",
      "2968\n",
      "2982\n",
      "2989\n",
      "2996\n",
      "3003\n",
      "3017\n",
      "3024\n",
      "3031\n",
      "3038\n",
      "3052\n",
      "3059\n",
      "3066\n",
      "3073\n",
      "3087\n",
      "3094\n",
      "3101\n",
      "3108\n",
      "3122\n",
      "3129\n",
      "3136\n",
      "3143\n",
      "3157\n",
      "3164\n",
      "3171\n",
      "3178\n",
      "3192\n",
      "3199\n"
     ]
    },
    {
     "name": "stdin",
     "output_type": "stream",
     "text": [
      "enter your first number 2\n",
      "enetr your second number 200\n"
     ]
    },
    {
     "name": "stdout",
     "output_type": "stream",
     "text": [
      "7\n",
      "14\n",
      "21\n",
      "28\n",
      "42\n",
      "49\n",
      "56\n",
      "63\n",
      "77\n",
      "84\n",
      "91\n",
      "98\n",
      "112\n",
      "119\n",
      "126\n",
      "133\n",
      "147\n",
      "154\n",
      "161\n",
      "168\n",
      "182\n",
      "189\n",
      "196\n"
     ]
    }
   ],
   "source": [
    "for i in range(2000, 3201):\n",
    "    if(i%7==0 and i % 5 != 0):\n",
    "        print(i)\n",
    "\n",
    "num1 = int(input(\"Enter your first number::\"))\n",
    "num2 = int(input(\"Enter your second number::\"))\n",
    "for i in range(num1 , num2 + 1 ):\n",
    "    if( i % 7 == 0 and i % 5 != 0):\n",
    "        print(i)\n",
    "\n"
   ]
  },
  {
   "cell_type": "markdown",
   "id": "0dedfc43-4748-428a-a02b-f8369af05b0f",
   "metadata": {},
   "source": [
    "9. Write a program to find the factorial of any number taken as an input from the user. Try to validate the user input whether it is a number or not and then only perform the operation. In case of other than number as an input, display an error as “Not a number.”"
   ]
  },
  {
   "cell_type": "code",
   "execution_count": 4,
   "id": "df04fc18-b560-41e2-ae08-61b15ca2c35f",
   "metadata": {},
   "outputs": [
    {
     "name": "stdin",
     "output_type": "stream",
     "text": [
      "enter your number 5\n"
     ]
    },
    {
     "name": "stdout",
     "output_type": "stream",
     "text": [
      "the factorial is  120\n"
     ]
    }
   ],
   "source": [
    "number=input(\"Enter your number::\")\n",
    "if(number.isdigit()):\n",
    "    number=int(number)\n",
    "    fact=1\n",
    "    x=1\n",
    "    while(x<=number):\n",
    "        fact=fact * x\n",
    "        x=x+1\n",
    "    print(\"The factorial is::\", fact)\n",
    "else:\n",
    "    print(\"Error not a number\")"
   ]
  },
  {
   "cell_type": "markdown",
   "id": "72ad2d3c-714f-4b9c-9062-ede81eacba7d",
   "metadata": {},
   "source": [
    "10. Write a program to find the sum of odd and even numbers input from the user. The program should take an input continuously until the user wants to exit the program. The program should be menu driven where the user should be asked whether they want to continue with the program or not."
   ]
  },
  {
   "cell_type": "code",
   "execution_count": 13,
   "id": "13a709f0-10f1-40b4-a843-24164118bdae",
   "metadata": {},
   "outputs": [
    {
     "name": "stdin",
     "output_type": "stream",
     "text": [
      "Enter your number:: q\n"
     ]
    },
    {
     "name": "stdout",
     "output_type": "stream",
     "text": [
      "Enter a valid integer!\n"
     ]
    },
    {
     "name": "stdin",
     "output_type": "stream",
     "text": [
      "Enter your number:: 1\n"
     ]
    },
    {
     "name": "stdout",
     "output_type": "stream",
     "text": [
      "evensum =  0 oddsum=  1\n"
     ]
    },
    {
     "name": "stdin",
     "output_type": "stream",
     "text": [
      "Do you want to proceed to next? Y/N  n\n"
     ]
    },
    {
     "name": "stdout",
     "output_type": "stream",
     "text": [
      "Existing from the program\n",
      "total evensum =  0 total oddsum =  1\n"
     ]
    }
   ],
   "source": [
    "oddsum=0\n",
    "evensum=0\n",
    "\n",
    "while True:\n",
    "    try:\n",
    "        number=int(input(\"Enter your number::\"))\n",
    "        if(number%2==0):\n",
    "            evensum +=number\n",
    "        else:\n",
    "            oddsum +=number\n",
    "        print(\"evensum = \", evensum , \"oddsum= \" , oddsum )\n",
    "        choice=input(\"Do you want to proceed to next? Y/N \") .lower() \n",
    "        if (choice!='y'):\n",
    "            print(\"Existing from the program\")\n",
    "            print(\"total evensum = \" , evensum ,\"total oddsum = \" , oddsum)\n",
    "            break\n",
    "    except ValueError:\n",
    "        print(\"Enter a valid integer!\")"
   ]
  },
  {
   "cell_type": "markdown",
   "id": "bbd9817e-71cb-49d4-aa3f-1adbc12e7855",
   "metadata": {},
   "source": [
    "11. Write a program to create a number guessing game for the user. The program should ask the user to input a number. The program specifications are as mentioned below.\n",
    "I. The program should generate a random number for the answer.\n",
    "II. The program should prompt the user for a number input.\n",
    "III. The program should provide the feedback to the user after each guesses (e.g. “Too high”,“Too low” or “Correct number”).\n",
    "IV. The program should check the user input for 5 times and allow the users to guess for at most 5 times if their input don’t match the answer number.\n",
    "V. If the user is not able to guess the answer within 5 times, the program should display “Game Over” message and exit."
   ]
  },
  {
   "cell_type": "code",
   "execution_count": 14,
   "id": "0dbe9c54-b54e-47ad-a203-8c833c36adfb",
   "metadata": {},
   "outputs": [
    {
     "name": "stdin",
     "output_type": "stream",
     "text": [
      "enter your first guess 44\n"
     ]
    },
    {
     "name": "stdout",
     "output_type": "stream",
     "text": [
      "Too high\n"
     ]
    },
    {
     "name": "stdin",
     "output_type": "stream",
     "text": [
      "enter your first guess 22\n"
     ]
    },
    {
     "name": "stdout",
     "output_type": "stream",
     "text": [
      "Too high\n"
     ]
    },
    {
     "name": "stdin",
     "output_type": "stream",
     "text": [
      "enter your first guess 2\n"
     ]
    },
    {
     "name": "stdout",
     "output_type": "stream",
     "text": [
      "Too low\n"
     ]
    },
    {
     "name": "stdin",
     "output_type": "stream",
     "text": [
      "enter your first guess 5\n"
     ]
    },
    {
     "name": "stdout",
     "output_type": "stream",
     "text": [
      "Too low\n"
     ]
    },
    {
     "name": "stdin",
     "output_type": "stream",
     "text": [
      "enter your first guess 6\n"
     ]
    },
    {
     "name": "stdout",
     "output_type": "stream",
     "text": [
      "Too low\n"
     ]
    },
    {
     "name": "stdin",
     "output_type": "stream",
     "text": [
      "enter your first guess 15\n"
     ]
    },
    {
     "name": "stdout",
     "output_type": "stream",
     "text": [
      "Too high\n"
     ]
    },
    {
     "name": "stdin",
     "output_type": "stream",
     "text": [
      "enter your first guess 9\n"
     ]
    },
    {
     "name": "stdout",
     "output_type": "stream",
     "text": [
      "Too low\n",
      "Better luck next time\n",
      "Your correct answer was  11 lol\n"
     ]
    }
   ],
   "source": [
    "print(\"Welcome to Random guessing game\")\n",
    "import random \n",
    "\n",
    "result = random.randint ( 1 , 50 ) \n",
    "\n",
    "chance = 1 \n",
    "while(chance <= 7):\n",
    "    choice = int(input(\"Enter your first guess::\"))\n",
    "    if ( choice == result ):\n",
    "        print(\" YOU WON 50 RUPEES \")\n",
    "\n",
    "    elif(choice > result):\n",
    "        print(\"Too high\")\n",
    "\n",
    "    else:\n",
    "        print(\"Too low\")\n",
    "\n",
    "    chance += 1\n",
    "\n",
    "\n",
    "    if(chance == 5):\n",
    "        print(\"Better luck next time!\")\n",
    "        print(\"Your correct answer was \", result ,\"lol, get good\" )\n"
   ]
  },
  {
   "cell_type": "code",
   "execution_count": null,
   "id": "3b47e322-44db-4a47-b774-b7256e8af216",
   "metadata": {},
   "outputs": [],
   "source": []
  }
 ],
 "metadata": {
  "kernelspec": {
   "display_name": "Python 3 (ipykernel)",
   "language": "python",
   "name": "python3"
  },
  "language_info": {
   "codemirror_mode": {
    "name": "ipython",
    "version": 3
   },
   "file_extension": ".py",
   "mimetype": "text/x-python",
   "name": "python",
   "nbconvert_exporter": "python",
   "pygments_lexer": "ipython3",
   "version": "3.12.3"
  }
 },
 "nbformat": 4,
 "nbformat_minor": 5
}
